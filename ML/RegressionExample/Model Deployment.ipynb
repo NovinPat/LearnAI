{
 "cells": [
  {
   "cell_type": "code",
   "execution_count": 1,
   "metadata": {},
   "outputs": [],
   "source": [
    "import pickle"
   ]
  },
  {
   "cell_type": "code",
   "execution_count": 2,
   "metadata": {},
   "outputs": [],
   "source": [
    "load_model=pickle.load(open(\"RegressionModel_MLR.sav\",'rb'))"
   ]
  },
  {
   "cell_type": "code",
   "execution_count": 4,
   "metadata": {},
   "outputs": [
    {
     "name": "stdout",
     "output_type": "stream",
     "text": [
      "Age:19\n",
      "Sex_Male 0 or 1:0\n",
      "BMI: 27.9\n",
      "Children:0\n",
      "Smoker_Yes 0 or 1:1\n"
     ]
    }
   ],
   "source": [
    "age_input = float(input(\"Age:\"))\n",
    "sex_input = float(input(\"Sex_Male 0 or 1:\"))\n",
    "bmi_input = float(input(\"BMI: \"))\n",
    "child_input = int(input(\"Children:\"))\n",
    "smoke_input = int(input(\"Smoker_Yes 0 or 1:\"))"
   ]
  },
  {
   "cell_type": "code",
   "execution_count": 5,
   "metadata": {},
   "outputs": [],
   "source": [
    "result = load_model.predict([[age_input,bmi_input,child_input,sex_input,smoke_input]])"
   ]
  },
  {
   "cell_type": "code",
   "execution_count": 6,
   "metadata": {},
   "outputs": [
    {
     "data": {
      "text/plain": [
       "array([[27387.87169215]])"
      ]
     },
     "execution_count": 6,
     "metadata": {},
     "output_type": "execute_result"
    }
   ],
   "source": [
    "result"
   ]
  }
 ],
 "metadata": {
  "kernelspec": {
   "display_name": "Python 3",
   "language": "python",
   "name": "python3"
  },
  "language_info": {
   "codemirror_mode": {
    "name": "ipython",
    "version": 3
   },
   "file_extension": ".py",
   "mimetype": "text/x-python",
   "name": "python",
   "nbconvert_exporter": "python",
   "pygments_lexer": "ipython3",
   "version": "3.7.1"
  }
 },
 "nbformat": 4,
 "nbformat_minor": 2
}
