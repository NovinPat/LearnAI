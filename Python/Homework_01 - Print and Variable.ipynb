{
 "cells": [
  {
   "cell_type": "markdown",
   "metadata": {},
   "source": [
    "## Homework - 01"
   ]
  },
  {
   "cell_type": "code",
   "execution_count": 1,
   "metadata": {},
   "outputs": [
    {
     "name": "stdout",
     "output_type": "stream",
     "text": [
      "Hello World\n"
     ]
    }
   ],
   "source": [
    "print('Hello World')"
   ]
  },
  {
   "cell_type": "code",
   "execution_count": 2,
   "metadata": {},
   "outputs": [
    {
     "name": "stdout",
     "output_type": "stream",
     "text": [
      "Novin Patrick\n"
     ]
    }
   ],
   "source": [
    "print('Novin Patrick')"
   ]
  },
  {
   "cell_type": "code",
   "execution_count": 3,
   "metadata": {},
   "outputs": [
    {
     "name": "stdout",
     "output_type": "stream",
     "text": [
      "Welcome to HOPE Artificial Intelligence\n"
     ]
    }
   ],
   "source": [
    "print('Welcome to HOPE Artificial Intelligence')"
   ]
  },
  {
   "cell_type": "code",
   "execution_count": 8,
   "metadata": {},
   "outputs": [
    {
     "name": "stdout",
     "output_type": "stream",
     "text": [
      "Name: Novin\n",
      "Age: 24\n"
     ]
    }
   ],
   "source": [
    "name = 'Novin'\n",
    "age = 24\n",
    "print('Name:',name)\n",
    "print('Age:',age)"
   ]
  },
  {
   "cell_type": "code",
   "execution_count": 7,
   "metadata": {},
   "outputs": [
    {
     "name": "stdout",
     "output_type": "stream",
     "text": [
      "Add = 103\n"
     ]
    }
   ],
   "source": [
    "num1 = 80\n",
    "num2 = 23\n",
    "print('Add =',num1 + num2)"
   ]
  },
  {
   "cell_type": "code",
   "execution_count": 9,
   "metadata": {},
   "outputs": [
    {
     "name": "stdout",
     "output_type": "stream",
     "text": [
      "a = 322\n",
      "b = 234\n"
     ]
    }
   ],
   "source": [
    "a = 322\n",
    "b = 234\n",
    "print('a =',a)\n",
    "print('b =',b)"
   ]
  },
  {
   "cell_type": "code",
   "execution_count": 11,
   "metadata": {},
   "outputs": [
    {
     "name": "stdout",
     "output_type": "stream",
     "text": [
      "a = 60\n",
      "b = 3\n",
      "addition       = 63\n",
      "subtraction    = 57\n",
      "multiplication = 180\n",
      "dividen        = 20.0\n"
     ]
    }
   ],
   "source": [
    "a = 60\n",
    "b = 3\n",
    "print('a =',a)\n",
    "print('b =',b)\n",
    "print('addition       =',a + b)\n",
    "print('subtraction    =',a - b)\n",
    "print('multiplication =',a * b)\n",
    "print('dividen        =',a / b)"
   ]
  },
  {
   "cell_type": "markdown",
   "metadata": {},
   "source": [
    "## Exponential"
   ]
  },
  {
   "cell_type": "code",
   "execution_count": 13,
   "metadata": {},
   "outputs": [
    {
     "name": "stdout",
     "output_type": "stream",
     "text": [
      "a = 2\n",
      "b = 3\n",
      "8\n"
     ]
    }
   ],
   "source": [
    "a = 2\n",
    "b = 3\n",
    "print('a =',a)\n",
    "print('b =',b)\n",
    "print(a ** b)"
   ]
  },
  {
   "cell_type": "markdown",
   "metadata": {},
   "source": [
    "## Floor Division"
   ]
  },
  {
   "cell_type": "code",
   "execution_count": 14,
   "metadata": {},
   "outputs": [
    {
     "name": "stdout",
     "output_type": "stream",
     "text": [
      "a = 31\n",
      "b = 6\n",
      "5\n"
     ]
    }
   ],
   "source": [
    "a = 31\n",
    "b = 6\n",
    "print('a =',a)\n",
    "print('b =',b)\n",
    "print(a // b)"
   ]
  },
  {
   "cell_type": "markdown",
   "metadata": {},
   "source": [
    "## Equal"
   ]
  },
  {
   "cell_type": "code",
   "execution_count": 16,
   "metadata": {},
   "outputs": [
    {
     "name": "stdout",
     "output_type": "stream",
     "text": [
      "a = 34\n",
      "b = 5\n",
      "False\n"
     ]
    }
   ],
   "source": [
    "a = 34\n",
    "b = 5\n",
    "print('a =',a)\n",
    "print('b =',b)\n",
    "print(a == b)"
   ]
  },
  {
   "cell_type": "code",
   "execution_count": 17,
   "metadata": {},
   "outputs": [
    {
     "name": "stdout",
     "output_type": "stream",
     "text": [
      "a = 56\n",
      "b = 56\n",
      "True\n"
     ]
    }
   ],
   "source": [
    "a = 56\n",
    "b = 56\n",
    "print('a =',a)\n",
    "print('b =',b)\n",
    "print(a == b)"
   ]
  },
  {
   "cell_type": "markdown",
   "metadata": {},
   "source": [
    "## Equal operator using string"
   ]
  },
  {
   "cell_type": "code",
   "execution_count": 18,
   "metadata": {},
   "outputs": [
    {
     "name": "stdout",
     "output_type": "stream",
     "text": [
      "str1 = HOPE AI\n",
      "str2 = HOPE AI\n",
      "True\n"
     ]
    }
   ],
   "source": [
    "str1 = 'HOPE AI'\n",
    "str2 = 'HOPE AI'\n",
    "\n",
    "print('str1 =',str1)\n",
    "print('str2 =',str2)\n",
    "print(str1 == str2)"
   ]
  },
  {
   "cell_type": "markdown",
   "metadata": {},
   "source": [
    "## Not equal\n"
   ]
  },
  {
   "cell_type": "code",
   "execution_count": 19,
   "metadata": {},
   "outputs": [
    {
     "name": "stdout",
     "output_type": "stream",
     "text": [
      "a = 765\n",
      "b = 876\n",
      "True\n"
     ]
    }
   ],
   "source": [
    "a = 765\n",
    "b = 876\n",
    "print('a =',a)\n",
    "print('b =',b)\n",
    "print(a != b)"
   ]
  },
  {
   "cell_type": "markdown",
   "metadata": {},
   "source": [
    "## Greater than and Less than"
   ]
  },
  {
   "cell_type": "code",
   "execution_count": 20,
   "metadata": {},
   "outputs": [
    {
     "name": "stdout",
     "output_type": "stream",
     "text": [
      "a = 45\n",
      "b = 32\n",
      "a is Greater than b: True\n",
      "a is Lesser than b: False\n"
     ]
    }
   ],
   "source": [
    "a = 45\n",
    "b = 32\n",
    "print('a =',a)\n",
    "print('b =',b)\n",
    "print('a is Greater than b:',a > b)\n",
    "print('a is Lesser than b:',a < b)\n"
   ]
  },
  {
   "cell_type": "markdown",
   "metadata": {},
   "source": [
    "## Greater than or equal to and Lesser than or equal to"
   ]
  },
  {
   "cell_type": "code",
   "execution_count": 21,
   "metadata": {},
   "outputs": [
    {
     "name": "stdout",
     "output_type": "stream",
     "text": [
      "a = 76\n",
      "b = 66\n",
      "a is Greater than or equal to b: True\n",
      "a is Lesser than or equal to b: False\n"
     ]
    }
   ],
   "source": [
    "a = 76\n",
    "b = 66\n",
    "print('a =',a)\n",
    "print('b =',b)\n",
    "print('a is Greater than or equal to b:',a >= b)\n",
    "print('a is Lesser than or equal to b:',a <= b)"
   ]
  }
 ],
 "metadata": {
  "kernelspec": {
   "display_name": "Python 3",
   "language": "python",
   "name": "python3"
  },
  "language_info": {
   "codemirror_mode": {
    "name": "ipython",
    "version": 3
   },
   "file_extension": ".py",
   "mimetype": "text/x-python",
   "name": "python",
   "nbconvert_exporter": "python",
   "pygments_lexer": "ipython3",
   "version": "3.7.1"
  }
 },
 "nbformat": 4,
 "nbformat_minor": 2
}
