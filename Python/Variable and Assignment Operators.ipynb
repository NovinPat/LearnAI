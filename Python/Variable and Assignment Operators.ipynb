{
 "cells": [
  {
   "cell_type": "markdown",
   "metadata": {},
   "source": [
    "# Variables\n",
    "\n",
    "\n"
   ]
  },
  {
   "cell_type": "code",
   "execution_count": 1,
   "metadata": {},
   "outputs": [
    {
     "name": "stdout",
     "output_type": "stream",
     "text": [
      "55\n"
     ]
    }
   ],
   "source": [
    "num = 22\n",
    "num1 = 33\n",
    "add = num + num1 \n",
    "print(add)"
   ]
  },
  {
   "cell_type": "code",
   "execution_count": 4,
   "metadata": {},
   "outputs": [
    {
     "name": "stdout",
     "output_type": "stream",
     "text": [
      "multiple 4096\n"
     ]
    }
   ],
   "source": [
    "n1 = 64\n",
    "n2 = 64\n",
    "mul = n1 * n2\n",
    "print(\"multiple\",mul)"
   ]
  },
  {
   "cell_type": "code",
   "execution_count": 5,
   "metadata": {},
   "outputs": [
    {
     "name": "stdout",
     "output_type": "stream",
     "text": [
      "The Radius of the circle:  2\n",
      "The PI value is:  3.14\n",
      "The area of the circle formula : pi * radius * radius\n",
      "The area of the circle formula : 12.56\n"
     ]
    }
   ],
   "source": [
    "radius =2\n",
    "pi = 3.14\n",
    "print('The Radius of the circle: ',radius)\n",
    "print('The PI value is: ',pi)\n",
    "print('The area of the circle formula : pi * radius * radius')\n",
    "print('The area of the circle formula :', pi * radius * radius)"
   ]
  },
  {
   "cell_type": "code",
   "execution_count": 3,
   "metadata": {},
   "outputs": [
    {
     "name": "stdout",
     "output_type": "stream",
     "text": [
      "Novin\n"
     ]
    }
   ],
   "source": [
    "print('Novin')"
   ]
  },
  {
   "cell_type": "markdown",
   "metadata": {},
   "source": [
    "## Control Structures\n"
   ]
  },
  {
   "cell_type": "code",
   "execution_count": null,
   "metadata": {},
   "outputs": [],
   "source": []
  }
 ],
 "metadata": {
  "kernelspec": {
   "display_name": "Python 3",
   "language": "python",
   "name": "python3"
  },
  "language_info": {
   "codemirror_mode": {
    "name": "ipython",
    "version": 3
   },
   "file_extension": ".py",
   "mimetype": "text/x-python",
   "name": "python",
   "nbconvert_exporter": "python",
   "pygments_lexer": "ipython3",
   "version": "3.7.1"
  }
 },
 "nbformat": 4,
 "nbformat_minor": 2
}
