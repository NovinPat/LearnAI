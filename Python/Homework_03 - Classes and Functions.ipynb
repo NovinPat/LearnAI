{
 "cells": [
  {
   "cell_type": "markdown",
   "metadata": {},
   "source": [
    "### Homework -  03 -  Classes and Functions"
   ]
  },
  {
   "cell_type": "code",
   "execution_count": 1,
   "metadata": {},
   "outputs": [],
   "source": [
    "#Print area and perimeter of square using function"
   ]
  },
  {
   "cell_type": "code",
   "execution_count": 1,
   "metadata": {},
   "outputs": [
    {
     "name": "stdout",
     "output_type": "stream",
     "text": [
      "Side = 12\n",
      "Area of square:  144\n",
      "Perimeter of square:  48\n"
     ]
    }
   ],
   "source": [
    "def perimeter_square(side):\n",
    "    area = side * side\n",
    "    print('Area of square: ',area)\n",
    "    perimeter = 4 * side\n",
    "    print('Perimeter of square: ',perimeter)\n",
    "    \n",
    "get_side = int(input('Side = '))\n",
    "perimeter_square(get_side)"
   ]
  },
  {
   "cell_type": "code",
   "execution_count": null,
   "metadata": {},
   "outputs": [],
   "source": [
    "#Create function to calculate simple linear using formula"
   ]
  },
  {
   "cell_type": "code",
   "execution_count": 2,
   "metadata": {},
   "outputs": [
    {
     "name": "stdout",
     "output_type": "stream",
     "text": [
      "Weight = 15\n",
      "Input = 5\n",
      "Bias = 1\n",
      "Simple Linear : 76\n"
     ]
    }
   ],
   "source": [
    "def linear_formula(wght, inp, bias):\n",
    "    simple_linear = (wght * inp) + bias\n",
    "    print('Simple Linear :',simple_linear)\n",
    "    \n",
    "weight_val = int(input('Weight = '))\n",
    "inp_val = int(input('Input = '))\n",
    "bias_val = int(input('Bias = '))\n",
    "linear_formula(weight_val, inp_val, bias_val)"
   ]
  },
  {
   "cell_type": "code",
   "execution_count": null,
   "metadata": {},
   "outputs": [],
   "source": [
    "#Print your present age using function"
   ]
  },
  {
   "cell_type": "code",
   "execution_count": 3,
   "metadata": {},
   "outputs": [
    {
     "name": "stdout",
     "output_type": "stream",
     "text": [
      "Current Year = 2022\n",
      "Birth Year = 1997\n",
      "Present Age : 25\n"
     ]
    }
   ],
   "source": [
    "def calculate_age(cur_year, birth_year):\n",
    "    actual_age = birth_year - cur_year\n",
    "    print('Present Age :',actual_age)\n",
    "\n",
    "current_year = int(input('Current Year = '))\n",
    "birth_year = int(input('Birth Year = '))\n",
    "calculate_age(birth_year, current_year)"
   ]
  },
  {
   "cell_type": "code",
   "execution_count": null,
   "metadata": {},
   "outputs": [],
   "source": [
    "#Print course list using class and function "
   ]
  },
  {
   "cell_type": "code",
   "execution_count": 7,
   "metadata": {},
   "outputs": [
    {
     "name": "stdout",
     "output_type": "stream",
     "text": [
      "Courses:\n",
      "Python\n",
      "Machine Learning\n",
      "Data Science\n",
      "Deep Learning\n",
      "NLP\n",
      "Time Series Analysis\n"
     ]
    }
   ],
   "source": [
    "class course_list():\n",
    "    def print_list(domain):\n",
    "        print('Courses:')\n",
    "        for course in domain:\n",
    "            print(course)\n",
    "\n",
    "domain = ['Python','Machine Learning','Data Science','Deep Learning','NLP','Time Series Analysis']\n",
    "course_list.print_list(domain)"
   ]
  },
  {
   "cell_type": "code",
   "execution_count": null,
   "metadata": {},
   "outputs": [],
   "source": [
    "#print area and perimeter of rectangle using class and functions"
   ]
  },
  {
   "cell_type": "code",
   "execution_count": 10,
   "metadata": {},
   "outputs": [
    {
     "name": "stdout",
     "output_type": "stream",
     "text": [
      "Caluclate Area\n",
      "Length :12\n",
      "Breadth :18\n",
      "Area of Rectangle : 216\n",
      "Caluclate Perimeter\n",
      "Length :9\n",
      "Breadth :15\n",
      "Perimeter of Rectangle : 48\n"
     ]
    }
   ],
   "source": [
    "class rectangle_spec():\n",
    "    def rectangle_area():\n",
    "        print('Caluclate Area')\n",
    "        rlen = int(input('Length :'))\n",
    "        rbred = int(input('Breadth :'))\n",
    "        area = rlen * rbred\n",
    "        print('Area of Rectangle :',area)\n",
    "    def rectangle_perimeter():\n",
    "        print('Caluclate Perimeter')\n",
    "        rlen = int(input('Length :'))\n",
    "        rbred = int(input('Breadth :'))\n",
    "        perimeter = 2 * (rlen + rbred)\n",
    "        print('Perimeter of Rectangle :',perimeter)\n",
    "        \n",
    "\n",
    "rectangle_spec.rectangle_area()\n",
    "rectangle_spec.rectangle_perimeter()"
   ]
  },
  {
   "cell_type": "code",
   "execution_count": null,
   "metadata": {},
   "outputs": [],
   "source": [
    "#Create a class to swap two numbers without using temporary variable"
   ]
  },
  {
   "cell_type": "code",
   "execution_count": 18,
   "metadata": {},
   "outputs": [
    {
     "name": "stdout",
     "output_type": "stream",
     "text": [
      "Before Swap\n",
      "First Number :67\n",
      "Second Number :45\n",
      "After Swap\n",
      "First Number : 45\n",
      "Second Number : 67\n"
     ]
    }
   ],
   "source": [
    "class number_swap():\n",
    "    def get_num():\n",
    "        print('Before Swap')\n",
    "        num1 = int(input('First Number :'))\n",
    "        num2 = int(input('Second Number :'))\n",
    "        \n",
    "        return [num1, num2]\n",
    "    \n",
    "    def swap_num(fir_num, sec_num):\n",
    "        fir_num = fir_num + sec_num\n",
    "        sec_num = fir_num - sec_num\n",
    "        fir_num = fir_num - sec_num\n",
    "        print('After Swap')\n",
    "        print('First Number :',fir_num)\n",
    "        print('Second Number :',sec_num)\n",
    "\n",
    "\n",
    "num_list = list(number_swap.get_num())\n",
    "number_swap.swap_num(num_list[0], num_list[1])"
   ]
  },
  {
   "cell_type": "code",
   "execution_count": null,
   "metadata": {},
   "outputs": [],
   "source": [
    "#Create class to calculate simple interest"
   ]
  },
  {
   "cell_type": "code",
   "execution_count": 19,
   "metadata": {},
   "outputs": [
    {
     "name": "stdout",
     "output_type": "stream",
     "text": [
      "Calculate Simple Interest\n",
      "Principle :5000\n",
      "Rate of Interest :5\n",
      "Time period :12\n",
      "Simple Interest : 3000.0\n"
     ]
    }
   ],
   "source": [
    "class simple_interest():\n",
    "    def calculate_interest():\n",
    "        print('Calculate Simple Interest')\n",
    "        principle = int(input('Principle :'))\n",
    "        roi = int(input('Rate of Interest :'))\n",
    "        period = int(input('Time period :'))\n",
    "        \n",
    "        calc_interest = (principle * roi * period) / 100\n",
    "        print('Simple Interest :',calc_interest)\n",
    "\n",
    "simple_interest.calculate_interest()"
   ]
  },
  {
   "cell_type": "code",
   "execution_count": null,
   "metadata": {},
   "outputs": [],
   "source": [
    "#Create a class to calculate average marks"
   ]
  },
  {
   "cell_type": "code",
   "execution_count": 25,
   "metadata": {
    "scrolled": false
   },
   "outputs": [
    {
     "name": "stdout",
     "output_type": "stream",
     "text": [
      "Number of Subjects: 3\n",
      "Mark 1: 78\n",
      "Mark 2: 89\n",
      "Mark 3: 90\n",
      "Total:  257\n",
      "Average:  85.66666666666667\n"
     ]
    }
   ],
   "source": [
    "class calculate_average():\n",
    "    def get_marks():\n",
    "        mark_list = []\n",
    "        number_entries = int(input('Number of Subjects: '))\n",
    "        for num in range(number_entries):\n",
    "            get_num = int(input('Mark ' + str(num+1) + ': '))\n",
    "            mark_list.append(get_num)\n",
    "            \n",
    "        return mark_list\n",
    "\n",
    "    def calculate_tot(mlist):\n",
    "        sum_list = sum(mlist)\n",
    "        avg_marks = sum_list / len(mlist)\n",
    "        print('Total: ',sum_list)\n",
    "        print('Average: ',avg_marks)\n",
    "        \n",
    "marks = calculate_average.get_marks()\n",
    "calculate_average.calculate_tot(marks)"
   ]
  },
  {
   "cell_type": "code",
   "execution_count": null,
   "metadata": {},
   "outputs": [],
   "source": [
    "#print car model names using class and function"
   ]
  },
  {
   "cell_type": "code",
   "execution_count": 26,
   "metadata": {},
   "outputs": [
    {
     "name": "stdout",
     "output_type": "stream",
     "text": [
      "Car Model Names:\n",
      "Maruti Alto\n",
      "Maruti Dzire\n",
      "Hyundai Creta\n",
      "Maruti Swift\n"
     ]
    }
   ],
   "source": [
    "class car_list():\n",
    "    def print_model(model):\n",
    "        print('Car Model Names:')\n",
    "        for car_name in model:\n",
    "            print(car_name)\n",
    "\n",
    "models = ['Maruti Alto','Maruti Dzire','Hyundai Creta','Maruti Swift']\n",
    "car_list.print_model(models)"
   ]
  },
  {
   "cell_type": "code",
   "execution_count": null,
   "metadata": {},
   "outputs": [],
   "source": [
    "#Create class and function to check the number is prime number or not"
   ]
  },
  {
   "cell_type": "code",
   "execution_count": 27,
   "metadata": {},
   "outputs": [
    {
     "name": "stdout",
     "output_type": "stream",
     "text": [
      "Number :37\n",
      "37 is a prime number\n"
     ]
    }
   ],
   "source": [
    "class check_prime():\n",
    "    def isprime():\n",
    "        check = False\n",
    "        get_num = int(input('Number :'))\n",
    "        \n",
    "        if get_num > 1:\n",
    "            for num in range(2, get_num):\n",
    "                if (get_num % num) == 0:\n",
    "                    check = True\n",
    "                    break\n",
    "        if check:\n",
    "            print(get_num, \"is not a prime number\")\n",
    "        else:\n",
    "            print(get_num, \"is a prime number\")\n",
    "            \n",
    "check_prime.isprime()    "
   ]
  }
 ],
 "metadata": {
  "kernelspec": {
   "display_name": "Python 3",
   "language": "python",
   "name": "python3"
  },
  "language_info": {
   "codemirror_mode": {
    "name": "ipython",
    "version": 3
   },
   "file_extension": ".py",
   "mimetype": "text/x-python",
   "name": "python",
   "nbconvert_exporter": "python",
   "pygments_lexer": "ipython3",
   "version": "3.7.1"
  }
 },
 "nbformat": 4,
 "nbformat_minor": 2
}
