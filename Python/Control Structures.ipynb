{
 "cells": [
  {
   "cell_type": "code",
   "execution_count": 1,
   "metadata": {},
   "outputs": [
    {
     "name": "stdout",
     "output_type": "stream",
     "text": [
      "0\n",
      "1\n",
      "2\n",
      "3\n",
      "4\n",
      "5\n"
     ]
    }
   ],
   "source": [
    "for num in range(6):\n",
    "    print(num)"
   ]
  },
  {
   "cell_type": "code",
   "execution_count": 3,
   "metadata": {},
   "outputs": [
    {
     "name": "stdout",
     "output_type": "stream",
     "text": [
      "10 is greater than 8\n"
     ]
    }
   ],
   "source": [
    "num1 = 10\n",
    "num2 = 8\n",
    "if num1 > num2:\n",
    "    print(num1 , 'is greater than' , num2)\n",
    "else:\n",
    "    print(num2 , 'is greater than' , num1)"
   ]
  },
  {
   "cell_type": "code",
   "execution_count": 4,
   "metadata": {},
   "outputs": [
    {
     "name": "stdout",
     "output_type": "stream",
     "text": [
      "p\n",
      "y\n",
      "t\n",
      "h\n",
      "o\n",
      "n\n"
     ]
    }
   ],
   "source": [
    "samp_str = 'python'\n",
    "for stg in samp_str:\n",
    "    print(stg)"
   ]
  },
  {
   "cell_type": "code",
   "execution_count": 5,
   "metadata": {},
   "outputs": [
    {
     "name": "stdout",
     "output_type": "stream",
     "text": [
      "Machine Learning\n",
      "Deep Learning\n",
      "NLP\n"
     ]
    }
   ],
   "source": [
    "ai_list = ['Machine Learning','Deep Learning', 'NLP']\n",
    "for lis in ai_list:\n",
    "    print(lis)"
   ]
  },
  {
   "cell_type": "code",
   "execution_count": 6,
   "metadata": {},
   "outputs": [
    {
     "name": "stdout",
     "output_type": "stream",
     "text": [
      "0\n",
      "2\n",
      "4\n",
      "6\n",
      "8\n",
      "10\n",
      "12\n",
      "14\n",
      "16\n",
      "18\n"
     ]
    }
   ],
   "source": [
    "for evn in range(20):\n",
    "    if evn % 2 == 0:\n",
    "        print(evn)"
   ]
  },
  {
   "cell_type": "code",
   "execution_count": 7,
   "metadata": {},
   "outputs": [
    {
     "name": "stdout",
     "output_type": "stream",
     "text": [
      "35 is odd\n"
     ]
    }
   ],
   "source": [
    "inp_num = 35\n",
    "if inp_num % 2 != 0:\n",
    "    print(inp_num, 'is odd')"
   ]
  },
  {
   "cell_type": "code",
   "execution_count": 8,
   "metadata": {},
   "outputs": [
    {
     "name": "stdout",
     "output_type": "stream",
     "text": [
      "1\n",
      "3\n",
      "5\n",
      "7\n",
      "9\n",
      "11\n",
      "13\n",
      "15\n",
      "17\n",
      "19\n"
     ]
    }
   ],
   "source": [
    "for odd in range(20):\n",
    "    if odd % 2 != 0:\n",
    "        print(odd)"
   ]
  },
  {
   "cell_type": "code",
   "execution_count": 9,
   "metadata": {},
   "outputs": [
    {
     "name": "stdout",
     "output_type": "stream",
     "text": [
      "M\n",
      "c\n",
      "i\n",
      "e\n",
      "L\n",
      "a\n",
      "n\n",
      "n\n"
     ]
    }
   ],
   "source": [
    "domain = 'Machine Learning'\n",
    "for ele in range(len(domain)):\n",
    "    if ele % 2 == 0:\n",
    "        print(domain[ele])"
   ]
  },
  {
   "cell_type": "code",
   "execution_count": 13,
   "metadata": {},
   "outputs": [
    {
     "name": "stdout",
     "output_type": "stream",
     "text": [
      "30 is greater\n"
     ]
    }
   ],
   "source": [
    "compare_list = [10,20,30]\n",
    "if (compare_list[0] > compare_list[1]) and (compare_list[0] > compare_list[2]):\n",
    "    print(compare_list[0],'is greater')\n",
    "elif (compare_list[1] > compare_list[0]) and (compare_list[1] > compare_list[2]):\n",
    "    print(compare_list[1],'is greater')\n",
    "else:\n",
    "    print(compare_list[2],'is greater')"
   ]
  }
 ],
 "metadata": {
  "kernelspec": {
   "display_name": "Python 3",
   "language": "python",
   "name": "python3"
  },
  "language_info": {
   "codemirror_mode": {
    "name": "ipython",
    "version": 3
   },
   "file_extension": ".py",
   "mimetype": "text/x-python",
   "name": "python",
   "nbconvert_exporter": "python",
   "pygments_lexer": "ipython3",
   "version": "3.7.1"
  }
 },
 "nbformat": 4,
 "nbformat_minor": 2
}
